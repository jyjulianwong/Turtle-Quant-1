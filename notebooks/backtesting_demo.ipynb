{
 "cells": [
  {
   "cell_type": "markdown",
   "metadata": {
    "vscode": {
     "languageId": "plaintext"
    }
   },
   "source": [
    "# Backtesting Engine Demo\n",
    "\n",
    "This notebook demonstrates how to use the backtesting engine to evaluate trading strategies and visualize the results.\n"
   ]
  },
  {
   "cell_type": "code",
   "execution_count": null,
   "metadata": {},
   "outputs": [],
   "source": [
    "import warnings\n",
    "\n",
    "import matplotlib.pyplot as plt\n",
    "import pandas as pd\n",
    "import seaborn as sns\n",
    "\n",
    "warnings.filterwarnings(\"ignore\")\n",
    "\n",
    "# Set up plotting\n",
    "%matplotlib inline\n",
    "plt.style.use(\"seaborn-v0_8\")\n",
    "sns.set_palette(\"husl\")\n",
    "\n",
    "# Import backtesting components\n",
    "from turtle_quant_1.backtesting import BacktestingEngine\n",
    "from turtle_quant_1.strategies.engine import StrategyEngine\n",
    "from turtle_quant_1.strategies.linear_regression_strategy import (\n",
    "    LinearRegressionStrategy,\n",
    ")"
   ]
  },
  {
   "cell_type": "markdown",
   "metadata": {},
   "source": [
    "## 1. Setting Up the Backtesting Engine\n"
   ]
  },
  {
   "cell_type": "code",
   "execution_count": null,
   "metadata": {},
   "outputs": [],
   "source": [
    "# Create strategies\n",
    "linear_strategy = LinearRegressionStrategy(\n",
    "    lookback_candles=50, name=\"LinearRegression_50\"\n",
    ")\n",
    "\n",
    "# Create strategy engine\n",
    "strategy_engine = StrategyEngine(\n",
    "    strategies=[linear_strategy], weights=[1.0], buy_threshold=0.2, sell_threshold=-0.2\n",
    ")\n",
    "\n",
    "# Create backtesting engine\n",
    "backtesting_engine = BacktestingEngine(\n",
    "    strategy_engine=strategy_engine,\n",
    "    symbols=[\"AAPL\", \"MSFT\", \"GOOG\"],\n",
    "    initial_capital=10000.0,  # $10,000 starting capital\n",
    "    max_history_years=3,\n",
    "    lookback_years=1,\n",
    "    lookforward_years=1,\n",
    ")\n",
    "\n",
    "print(\"Backtesting engine created successfully!\")\n",
    "print(f\"Symbols: {backtesting_engine.symbols}\")\n",
    "print(f\"Initial capital: ${backtesting_engine.initial_capital:,}\")"
   ]
  },
  {
   "cell_type": "markdown",
   "metadata": {},
   "source": [
    "## 2. Running the Backtest\n",
    "\n",
    "This will load data from GCS or yfinance and simulate trading over the specified time period.\n"
   ]
  },
  {
   "cell_type": "code",
   "execution_count": null,
   "metadata": {},
   "outputs": [],
   "source": [
    "# Run the backtest\n",
    "results = backtesting_engine.run_backtest()\n",
    "\n",
    "print(\"Backtesting completed!\")\n",
    "print(f\"Total return: ${results['total_return_dollars']:,.2f}\")\n",
    "print(f\"Return percentage: {results['total_return_percent']:.2f}%\")"
   ]
  },
  {
   "cell_type": "markdown",
   "metadata": {},
   "source": [
    "## 3. Results Analysis\n"
   ]
  },
  {
   "cell_type": "code",
   "execution_count": null,
   "metadata": {},
   "outputs": [],
   "source": [
    "# Display comprehensive results\n",
    "print(\"=\" * 60)\n",
    "print(\"BACKTESTING RESULTS SUMMARY\")\n",
    "print(\"=\" * 60)\n",
    "print(f\"Initial Capital: ${results['initial_capital']:,.2f}\")\n",
    "print(f\"Final Portfolio Value: ${results['final_portfolio_value']:,.2f}\")\n",
    "print(f\"Total Return (Dollars): ${results['total_return_dollars']:,.2f}\")\n",
    "print(f\"Total Return (Percentage): {results['total_return_percent']:.2f}%\")\n",
    "print(\n",
    "    f\"Simulation Period: {results['simulation_start'].strftime('%Y-%m-%d')} to {results['simulation_end'].strftime('%Y-%m-%d')}\"\n",
    ")\n",
    "print(f\"Symbols Traded: {results['symbols_traded']}\")\n",
    "print(f\"Total Signals Generated: {results['total_signals_generated']:,}\")\n",
    "print(f\"Total Transactions Executed: {results['total_transactions_executed']:,}\")\n",
    "print(\n",
    "    f\"Signal Execution Rate: {results['total_transactions_executed'] / max(results['total_signals_generated'], 1) * 100:.1f}%\"\n",
    ")\n",
    "print(f\"Final Cash: ${results['final_cash']:,.2f}\")\n",
    "print(f\"Final Holdings: {results['final_holdings']}\")"
   ]
  },
  {
   "cell_type": "markdown",
   "metadata": {},
   "source": [
    "## 4. Transaction Analysis and Visualization\n"
   ]
  },
  {
   "cell_type": "code",
   "execution_count": null,
   "metadata": {},
   "outputs": [],
   "source": [
    "# Get transaction history and analyze\n",
    "transactions = results[\"transaction_history\"]\n",
    "\n",
    "if not transactions.empty:\n",
    "    print(f\"Total transactions: {len(transactions)}\")\n",
    "    print(\"\\nTransaction sample:\")\n",
    "    display(transactions.head())\n",
    "\n",
    "    # Transaction statistics\n",
    "    buy_txns = transactions[transactions[\"action\"] == \"BUY\"]\n",
    "    sell_txns = transactions[transactions[\"action\"] == \"SELL\"]\n",
    "\n",
    "    print(\"\\nTransaction Statistics:\")\n",
    "    print(f\"  Buy transactions: {len(buy_txns)}\")\n",
    "    print(f\"  Sell transactions: {len(sell_txns)}\")\n",
    "    print(f\"  Total volume traded: ${transactions['total_value'].sum():,.2f}\")\n",
    "\n",
    "    if len(buy_txns) > 0:\n",
    "        print(f\"  Average buy price: ${buy_txns['price'].mean():.2f}\")\n",
    "    if len(sell_txns) > 0:\n",
    "        print(f\"  Average sell price: ${sell_txns['price'].mean():.2f}\")\n",
    "else:\n",
    "    print(\"No transactions were executed.\")"
   ]
  },
  {
   "cell_type": "code",
   "execution_count": null,
   "metadata": {},
   "outputs": [],
   "source": [
    "# Create visualizations if transactions exist\n",
    "if not transactions.empty:\n",
    "    fig, axes = plt.subplots(2, 2, figsize=(15, 10))\n",
    "\n",
    "    # 1. Buy vs Sell distribution\n",
    "    action_counts = transactions[\"action\"].value_counts()\n",
    "    axes[0, 0].pie(action_counts.values, labels=action_counts.index, autopct=\"%1.1f%%\")\n",
    "    axes[0, 0].set_title(\"Buy vs Sell Distribution\")\n",
    "\n",
    "    # 2. Transaction value distribution\n",
    "    axes[0, 1].hist(transactions[\"total_value\"], bins=20, alpha=0.7, edgecolor=\"black\")\n",
    "    axes[0, 1].set_title(\"Transaction Value Distribution\")\n",
    "    axes[0, 1].set_xlabel(\"Transaction Value ($)\")\n",
    "    axes[0, 1].set_ylabel(\"Frequency\")\n",
    "\n",
    "    # 3. Symbol-wise transaction count\n",
    "    symbol_counts = transactions[\"symbol\"].value_counts()\n",
    "    axes[1, 0].bar(symbol_counts.index, symbol_counts.values)\n",
    "    axes[1, 0].set_title(\"Transactions by Symbol\")\n",
    "    axes[1, 0].set_xlabel(\"Symbol\")\n",
    "    axes[1, 0].set_ylabel(\"Number of Transactions\")\n",
    "\n",
    "    # 4. Price timeline\n",
    "    transactions[\"timestamp\"] = pd.to_datetime(transactions[\"timestamp\"])\n",
    "    buy_txns = transactions[transactions[\"action\"] == \"BUY\"]\n",
    "    sell_txns = transactions[transactions[\"action\"] == \"SELL\"]\n",
    "\n",
    "    if len(buy_txns) > 0:\n",
    "        axes[1, 1].scatter(\n",
    "            buy_txns[\"timestamp\"],\n",
    "            buy_txns[\"price\"],\n",
    "            color=\"green\",\n",
    "            alpha=0.6,\n",
    "            label=\"BUY\",\n",
    "            s=30,\n",
    "        )\n",
    "    if len(sell_txns) > 0:\n",
    "        axes[1, 1].scatter(\n",
    "            sell_txns[\"timestamp\"],\n",
    "            sell_txns[\"price\"],\n",
    "            color=\"red\",\n",
    "            alpha=0.6,\n",
    "            label=\"SELL\",\n",
    "            s=30,\n",
    "        )\n",
    "\n",
    "    axes[1, 1].set_title(\"Transaction Prices Over Time\")\n",
    "    axes[1, 1].set_xlabel(\"Date\")\n",
    "    axes[1, 1].set_ylabel(\"Price ($)\")\n",
    "    axes[1, 1].legend()\n",
    "    axes[1, 1].tick_params(axis=\"x\", rotation=45)\n",
    "\n",
    "    plt.tight_layout()\n",
    "    plt.show()\n",
    "else:\n",
    "    print(\"No transactions to visualize.\")"
   ]
  },
  {
   "cell_type": "markdown",
   "metadata": {},
   "source": [
    "## 5. Conclusion\n",
    "\n",
    "The backtesting engine successfully implements the required functionality:\n",
    "\n",
    "✅ **Data Loading**: Downloads data from GCS or yfinance for specified symbols up to MAX_HISTORY_DAYS  \n",
    "✅ **Zero Capital Start**: Starts with a configurable capital pool (including $0)  \n",
    "✅ **Strategy Engine**: Uses BACKTESTING_MAX_LOOKBACK_DAYS for signal generation  \n",
    "✅ **Ticking Simulation**: Simulates trading on every OHLCV data point for BACKTESTING_MAX_LOOKFORWARD_DAYS  \n",
    "✅ **Signal Execution**: BUY signals purchase 1 unit, SELL signals sell all holdings  \n",
    "✅ **Performance Calculation**: Calculates final profit/loss in dollars  \n",
    "\n",
    "The engine provides comprehensive transaction tracking, performance metrics, and visualization capabilities for strategy evaluation.\n"
   ]
  }
 ],
 "metadata": {
  "language_info": {
   "name": "python"
  }
 },
 "nbformat": 4,
 "nbformat_minor": 2
}
