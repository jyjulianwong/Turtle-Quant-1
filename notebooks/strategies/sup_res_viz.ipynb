{
 "cells": [
  {
   "cell_type": "code",
   "execution_count": null,
   "id": "0ef6ba47-c5d6-4ec4-b2cc-02033bca44fa",
   "metadata": {},
   "outputs": [],
   "source": [
    "from datetime import datetime\n",
    "\n",
    "import matplotlib.pyplot as plt\n",
    "\n",
    "from turtle_quant_1.data_processing.processor import DataProcessor\n",
    "from turtle_quant_1.strategies.helpers import get_support_resistance_level\n",
    "from turtle_quant_1.strategies.candlesticks import (\n",
    "    EngulfingPattern,\n",
    "    MomentumPattern,\n",
    "    MultiplePattern,\n",
    ")"
   ]
  },
  {
   "cell_type": "code",
   "execution_count": null,
   "id": "d004e48e-0a07-4c1f-9fd0-a95be9b0124e",
   "metadata": {},
   "outputs": [],
   "source": [
    "dates = {\"start\": datetime(2024, 1, 1), \"end\": datetime(2025, 7, 31)}\n",
    "\n",
    "data_processor = DataProcessor()\n",
    "data = data_processor.load_data(\n",
    "    symbol=\"MSFT\",\n",
    "    start_date=dates[\"start\"],\n",
    "    end_date=dates[\"end\"],\n",
    "    impute_data=True,\n",
    ")"
   ]
  },
  {
   "cell_type": "code",
   "execution_count": null,
   "id": "760fde5b-6d94-4055-9aec-ecc37c7d8565",
   "metadata": {},
   "outputs": [],
   "source": [
    "s1 = get_support_resistance_level(data=data, level=\"S1\")\n",
    "r1 = get_support_resistance_level(data=data, level=\"R1\")"
   ]
  },
  {
   "cell_type": "code",
   "execution_count": null,
   "id": "5d6cdc7f-7c2d-4b2a-bfe2-b09675eb282c",
   "metadata": {},
   "outputs": [],
   "source": [
    "import plotly.graph_objects as go\n",
    "from IPython.display import display\n",
    "from plotly.subplots import make_subplots\n",
    "\n",
    "fig = make_subplots(\n",
    "    rows=1,\n",
    "    cols=1,\n",
    "    shared_xaxes=True,\n",
    "    vertical_spacing=0.1,\n",
    "    row_heights=[1.0],\n",
    "    subplot_titles=(\"Close Price\",),\n",
    ")\n",
    "\n",
    "# Price plot\n",
    "fig.add_trace(\n",
    "    go.Scatter(\n",
    "        x=data[\"datetime\"],\n",
    "        y=data[\"Close\"],\n",
    "        mode=\"lines\",\n",
    "        name=\"Close Price\",\n",
    "        line=dict(color=\"blue\"),\n",
    "    ),\n",
    "    row=1,\n",
    "    col=1,\n",
    ")\n",
    "\n",
    "fig.add_trace(\n",
    "    go.Scatter(\n",
    "        x=data[\"datetime\"],\n",
    "        y=s1,\n",
    "        mode=\"lines\",\n",
    "        name=\"S1\",\n",
    "        line=dict(color=\"yellow\", dash=\"dash\"),\n",
    "    ),\n",
    "    row=1,\n",
    "    col=1,\n",
    ")\n",
    "\n",
    "fig.add_trace(\n",
    "    go.Scatter(\n",
    "        x=data[\"datetime\"],\n",
    "        y=r1,\n",
    "        mode=\"lines\",\n",
    "        name=\"R1\",\n",
    "        line=dict(color=\"purple\", dash=\"dash\"),\n",
    "    ),\n",
    "    row=1,\n",
    "    col=1,\n",
    ")\n",
    "\n",
    "# Layout\n",
    "fig.update_layout(\n",
    "    height=600,\n",
    "    width=1000,\n",
    "    title_text=f\"Support & Resistance - MSFT\",\n",
    "    legend=dict(orientation=\"h\", yanchor=\"bottom\", y=1.02, xanchor=\"right\", x=1),\n",
    ")\n",
    "\n",
    "fig.update_yaxes(title_text=\"Price\", row=1, col=1)\n",
    "\n",
    "display(fig)"
   ]
  }
 ],
 "metadata": {
  "kernelspec": {
   "display_name": "turtle-quant-1",
   "language": "python",
   "name": "turtle-quant-1"
  },
  "language_info": {
   "codemirror_mode": {
    "name": "ipython",
    "version": 3
   },
   "file_extension": ".py",
   "mimetype": "text/x-python",
   "name": "python",
   "nbconvert_exporter": "python",
   "pygments_lexer": "ipython3",
   "version": "3.12.9"
  }
 },
 "nbformat": 4,
 "nbformat_minor": 5
}
