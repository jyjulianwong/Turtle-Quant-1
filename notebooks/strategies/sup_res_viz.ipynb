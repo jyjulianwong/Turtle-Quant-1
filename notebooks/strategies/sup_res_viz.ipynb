{
 "cells": [
  {
   "cell_type": "code",
   "execution_count": null,
   "id": "0ef6ba47-c5d6-4ec4-b2cc-02033bca44fa",
   "metadata": {},
   "outputs": [],
   "source": [
    "from datetime import datetime\n",
    "\n",
    "import matplotlib.pyplot as plt\n",
    "\n",
    "from turtle_quant_1.data_processing.processor import DataProcessor\n",
    "from turtle_quant_1.strategies.helpers.helpers import convert_to_weekly_data\n",
    "from turtle_quant_1.strategies.helpers.support_resistance import (\n",
    "    StnryFibonacciRetrace,\n",
    "    StnryGaussianKde,\n",
    "    StnryLocalExtrema,\n",
    "    StnryPivotPoint,\n",
    ")"
   ]
  },
  {
   "cell_type": "markdown",
   "id": "fd8566f8-80e7-4b76-937e-b07f247b75c7",
   "metadata": {},
   "source": [
    "## Data pre-processing"
   ]
  },
  {
   "cell_type": "code",
   "execution_count": null,
   "id": "d004e48e-0a07-4c1f-9fd0-a95be9b0124e",
   "metadata": {},
   "outputs": [],
   "source": [
    "dates = {\"start\": datetime(2024, 1, 1), \"end\": datetime(2025, 7, 31)}\n",
    "\n",
    "data_processor = DataProcessor()\n",
    "data = data_processor.load_data(\n",
    "    symbol=\"MSFT\",\n",
    "    start_date=dates[\"start\"],\n",
    "    end_date=dates[\"end\"],\n",
    "    impute_data=True,\n",
    ")"
   ]
  },
  {
   "cell_type": "code",
   "execution_count": null,
   "id": "eecff887-0444-4d36-904a-4dcb10337d5f",
   "metadata": {},
   "outputs": [],
   "source": [
    "# This step is not necessary, \n",
    "# but just so that it is easier to see what data the strategies are processing\n",
    "# if they are designed to process daily / weekly data\n",
    "agg_data = convert_to_weekly_data(data)"
   ]
  },
  {
   "cell_type": "markdown",
   "id": "6eea4aef-8b15-4996-b522-e396b454df98",
   "metadata": {},
   "source": [
    "## Select strategies to test"
   ]
  },
  {
   "cell_type": "code",
   "execution_count": null,
   "id": "73fa4ef8-da98-46b8-b4b4-e7261640ce5c",
   "metadata": {},
   "outputs": [],
   "source": [
    "strategies = [\n",
    "    StnryFibonacciRetrace(),\n",
    "    StnryGaussianKde(),\n",
    "    StnryLocalExtrema(),\n",
    "    StnryPivotPoint(),\n",
    "]"
   ]
  },
  {
   "cell_type": "markdown",
   "id": "028405d3-e73b-4735-b110-eb1bd193db8f",
   "metadata": {},
   "source": [
    "## Visualization"
   ]
  },
  {
   "cell_type": "code",
   "execution_count": null,
   "id": "5d6cdc7f-7c2d-4b2a-bfe2-b09675eb282c",
   "metadata": {},
   "outputs": [],
   "source": [
    "import plotly.graph_objects as go\n",
    "from IPython.display import display\n",
    "from plotly.subplots import make_subplots\n",
    "\n",
    "for strategy in strategies:\n",
    "    # Adjust this to configure what price counts as being within a support-resistance zone\n",
    "    sup_res_zone_threshold = strategy.sup_res_zone_threshold\n",
    "    \n",
    "    levels_df = strategy.generate_historical_levels(data=data, symbol=\"MSFT\")\n",
    "    levels_df = strategy.pivoted_levels(levels_df)\n",
    "    \n",
    "    fig = make_subplots(\n",
    "        rows=1,\n",
    "        cols=1,\n",
    "        shared_xaxes=True,\n",
    "        vertical_spacing=0.1,\n",
    "        row_heights=[1.0],\n",
    "        subplot_titles=(\"Close Price\",),\n",
    "    )\n",
    "\n",
    "    # Price plot with original data\n",
    "    fig.add_trace(\n",
    "        go.Scatter(\n",
    "            x=data[\"datetime\"],\n",
    "            y=data[\"Close\"],\n",
    "            mode=\"lines\",\n",
    "            name=\"Close Price\",\n",
    "            line=dict(color=\"blue\"),\n",
    "        ),\n",
    "        row=1,\n",
    "        col=1,\n",
    "    )\n",
    "\n",
    "    # Price plot with aggregated data\n",
    "    fig.add_trace(\n",
    "        go.Scatter(\n",
    "            x=agg_data[\"datetime\"],\n",
    "            y=agg_data[\"Close\"],\n",
    "            mode=\"lines\",\n",
    "            name=\"Close Price (Aggregated)\",\n",
    "            line=dict(color=\"green\"),\n",
    "        ),\n",
    "        row=1,\n",
    "        col=1,\n",
    "    )\n",
    "\n",
    "    # Plot support/resistance levels\n",
    "    for _, row in levels_df.iterrows():\n",
    "        for level in row[\"level_values\"]:\n",
    "            if level == 0.0:\n",
    "                continue\n",
    "            \n",
    "            datetime_beg = row[\"datetime_beg\"]\n",
    "            datetime_end = row[\"datetime_end\"]\n",
    "            lower = level * (1 - sup_res_zone_threshold)\n",
    "            upper = level * (1 + sup_res_zone_threshold)\n",
    "    \n",
    "            # Add the filled zone\n",
    "            fig.add_trace(\n",
    "                go.Scatter(\n",
    "                    x=[datetime_beg, datetime_end, datetime_end, datetime_beg],\n",
    "                    y=[lower, lower, upper, upper],\n",
    "                    fill='toself',\n",
    "                    fillcolor='rgba(255,165,0,0.1)',  # semi-transparent orange\n",
    "                    line=dict(color='rgba(255,165,0,0.0)'),  # no border\n",
    "                    hoverinfo='skip',\n",
    "                    showlegend=False,\n",
    "                )\n",
    "            )\n",
    "    \n",
    "            # Add the central line\n",
    "            fig.add_trace(\n",
    "                go.Scatter(\n",
    "                    x=[datetime_beg, datetime_end],\n",
    "                    y=[level, level],\n",
    "                    mode=\"lines\",\n",
    "                    line=dict(color=\"orange\", width=1),\n",
    "                    name=f\"Level {level:.2f}\",\n",
    "                    showlegend=False,\n",
    "                )\n",
    "            )\n",
    "\n",
    "    # Layout\n",
    "    fig.update_layout(\n",
    "        height=600,\n",
    "        width=1000,\n",
    "        title_text=f\"Support & Resistance - {type(strategy).__name__} - MSFT\",\n",
    "        legend=dict(orientation=\"h\", yanchor=\"bottom\", y=1.02, xanchor=\"right\", x=1),\n",
    "    )\n",
    "\n",
    "    fig.update_yaxes(title_text=\"Price\", row=1, col=1)\n",
    "\n",
    "    display(fig)"
   ]
  }
 ],
 "metadata": {
  "kernelspec": {
   "display_name": "turtle-quant-1",
   "language": "python",
   "name": "turtle-quant-1"
  },
  "language_info": {
   "codemirror_mode": {
    "name": "ipython",
    "version": 3
   },
   "file_extension": ".py",
   "mimetype": "text/x-python",
   "name": "python",
   "nbconvert_exporter": "python",
   "pygments_lexer": "ipython3",
   "version": "3.12.11"
  }
 },
 "nbformat": 4,
 "nbformat_minor": 5
}
