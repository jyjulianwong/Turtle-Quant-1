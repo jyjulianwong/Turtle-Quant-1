{
 "cells": [
  {
   "cell_type": "code",
   "execution_count": null,
   "id": "0ef6ba47-c5d6-4ec4-b2cc-02033bca44fa",
   "metadata": {},
   "outputs": [],
   "source": [
    "from datetime import datetime\n",
    "\n",
    "import numpy as np\n",
    "import matplotlib.pyplot as plt\n",
    "from scipy import signal as sp\n",
    "\n",
    "from turtle_quant_1.data_processing.processor import DataProcessor\n",
    "from turtle_quant_1.strategies.helpers.helpers import convert_to_daily_data"
   ]
  },
  {
   "cell_type": "code",
   "execution_count": null,
   "id": "d004e48e-0a07-4c1f-9fd0-a95be9b0124e",
   "metadata": {},
   "outputs": [],
   "source": [
    "dates = {\"start\": datetime(2024, 1, 1), \"end\": datetime(2025, 7, 31)}\n",
    "\n",
    "data_processor = DataProcessor()\n",
    "data = data_processor.load_data(\n",
    "    symbol=\"MSFT\",\n",
    "    start_date=dates[\"start\"],\n",
    "    end_date=dates[\"end\"],\n",
    "    impute_data=True,\n",
    ")"
   ]
  },
  {
   "cell_type": "code",
   "execution_count": null,
   "id": "eecff887-0444-4d36-904a-4dcb10337d5f",
   "metadata": {},
   "outputs": [],
   "source": [
    "# This step is not necessary, but just so that it is easier to see what data the strategies are processing\n",
    "agg_data = convert_to_daily_data(data)"
   ]
  },
  {
   "cell_type": "code",
   "execution_count": null,
   "id": "5b9e1802-b8d6-4cd3-a7b3-606314ae3032",
   "metadata": {},
   "outputs": [],
   "source": [
    "# Adjust this to configure what price counts as being within a support-resistance zone\n",
    "sup_res_zone_threshold = 0.005"
   ]
  },
  {
   "cell_type": "code",
   "execution_count": null,
   "id": "b6d9c486-7f13-4da0-935e-f4dd3a78b041",
   "metadata": {},
   "outputs": [],
   "source": [
    "peak_distance = 10\n",
    "peak_prominence_pct = 0.01\n",
    "\n",
    "high_prices = agg_data[\"High\"].values\n",
    "low_prices = agg_data[\"Low\"].values\n",
    "close_prices = agg_data[\"Close\"].values\n",
    "\n",
    "# Calculate dynamic prominence based on price range\n",
    "price_range = np.max(high_prices) - np.min(low_prices)\n",
    "prominence_threshold = price_range * peak_prominence_pct\n",
    "\n",
    "peaks, _ = sp.find_peaks(\n",
    "    close_prices,\n",
    "    distance=peak_distance,\n",
    "    prominence=prominence_threshold,\n",
    ")\n",
    "\n",
    "troughs, _ = sp.find_peaks(\n",
    "    -close_prices,\n",
    "    distance=peak_distance,\n",
    "    prominence=prominence_threshold,\n",
    ")"
   ]
  },
  {
   "cell_type": "code",
   "execution_count": null,
   "id": "e5f8e16f-212b-461e-99a9-400170067e23",
   "metadata": {},
   "outputs": [],
   "source": [
    "peaks"
   ]
  },
  {
   "cell_type": "code",
   "execution_count": null,
   "id": "2cc31139-6827-42ac-a8d7-a5ac5166e248",
   "metadata": {},
   "outputs": [],
   "source": [
    "agg_data.iloc[peaks].head()"
   ]
  },
  {
   "cell_type": "code",
   "execution_count": null,
   "id": "c28db625-4a24-48c4-a01e-1014ab6ab3e8",
   "metadata": {},
   "outputs": [],
   "source": [
    "agg_data[\"ma\"] = agg_data[\"Close\"].rolling(window=10).mean()"
   ]
  },
  {
   "cell_type": "code",
   "execution_count": null,
   "id": "46f46b5c-5f29-48c6-9996-1a792fc1adab",
   "metadata": {},
   "outputs": [],
   "source": [
    "import plotly.graph_objects as go\n",
    "from IPython.display import display\n",
    "from plotly.subplots import make_subplots\n",
    "\n",
    "# Create subplots\n",
    "fig = make_subplots(\n",
    "    rows=1,\n",
    "    cols=1,\n",
    "    shared_xaxes=True,\n",
    "    vertical_spacing=0.1,\n",
    "    row_heights=[1.0],\n",
    "    subplot_titles=(\"Close Price\",),\n",
    ")\n",
    "\n",
    "# # Price plot with original data\n",
    "# fig.add_trace(\n",
    "#     go.Scatter(\n",
    "#         x=data[\"datetime\"],\n",
    "#         y=data[\"Close\"],\n",
    "#         mode=\"lines\",\n",
    "#         name=\"Close Price\",\n",
    "#         line=dict(color=\"blue\"),\n",
    "#     ),\n",
    "#     row=1,\n",
    "#     col=1,\n",
    "# )\n",
    "\n",
    "# Price plot with aggregated data\n",
    "fig.add_trace(\n",
    "    go.Scatter(\n",
    "        x=agg_data[\"datetime\"],\n",
    "        y=agg_data[\"Close\"],\n",
    "        mode=\"lines\",\n",
    "        name=\"Aggregated Close\",\n",
    "        line=dict(color=\"blue\"),\n",
    "    ),\n",
    "    row=1,\n",
    "    col=1,\n",
    ")\n",
    "\n",
    "# Peak markers\n",
    "fig.add_trace(\n",
    "    go.Scatter(\n",
    "        x=agg_data.iloc[peaks][\"datetime\"],\n",
    "        y=agg_data.iloc[peaks][\"Close\"],\n",
    "        mode=\"markers\",\n",
    "        name=\"SciPy Peaks\",\n",
    "        marker=dict(color=\"green\", size=8),\n",
    "        showlegend=False,\n",
    "    ),\n",
    "    row=1,\n",
    "    col=1,\n",
    ")\n",
    "\n",
    "# Trough markers\n",
    "fig.add_trace(\n",
    "    go.Scatter(\n",
    "        x=agg_data.iloc[troughs][\"datetime\"],\n",
    "        y=agg_data.iloc[troughs][\"Close\"],\n",
    "        mode=\"markers\",\n",
    "        name=\"SciPy Troughs\",\n",
    "        marker=dict(color=\"red\", size=8),\n",
    "        showlegend=False,\n",
    "    ),\n",
    "    row=1,\n",
    "    col=1,\n",
    ")\n",
    "\n",
    "# 20-day Moving Average\n",
    "fig.add_trace(\n",
    "    go.Scatter(\n",
    "        x=agg_data[\"datetime\"],\n",
    "        y=agg_data[\"ma\"],\n",
    "        mode=\"lines\",\n",
    "        name=\"20-Day MA\",\n",
    "        line=dict(color=\"orange\"),\n",
    "    ),\n",
    "    row=1,\n",
    "    col=1,\n",
    ")\n",
    "\n",
    "# Layout\n",
    "fig.update_layout(\n",
    "    height=600,\n",
    "    width=1000,\n",
    "    title_text=\"MSFT\",\n",
    "    legend=dict(orientation=\"h\", yanchor=\"bottom\", y=1.02, xanchor=\"right\", x=1),\n",
    ")\n",
    "\n",
    "fig.update_yaxes(title_text=\"Price\", row=1, col=1)\n",
    "\n",
    "display(fig)"
   ]
  }
 ],
 "metadata": {
  "kernelspec": {
   "display_name": "turtle-quant-1",
   "language": "python",
   "name": "turtle-quant-1"
  },
  "language_info": {
   "codemirror_mode": {
    "name": "ipython",
    "version": 3
   },
   "file_extension": ".py",
   "mimetype": "text/x-python",
   "name": "python",
   "nbconvert_exporter": "python",
   "pygments_lexer": "ipython3",
   "version": "3.12.9"
  }
 },
 "nbformat": 4,
 "nbformat_minor": 5
}
