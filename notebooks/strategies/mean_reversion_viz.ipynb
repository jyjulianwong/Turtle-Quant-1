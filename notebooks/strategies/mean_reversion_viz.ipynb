{
 "cells": [
  {
   "cell_type": "code",
   "execution_count": null,
   "id": "98e3bbf9-3f25-494a-b151-e778b95a25cd",
   "metadata": {},
   "outputs": [],
   "source": [
    "from datetime import datetime\n",
    "\n",
    "import matplotlib.pyplot as plt\n",
    "\n",
    "from turtle_quant_1.data_processing.processor import DataProcessor\n",
    "from turtle_quant_1.strategies.mean_reversion import (\n",
    "    BollingerBand,\n",
    "    FastStochOscCrossover,\n",
    "    RocMultiConditionCrossover,\n",
    "    RsiSupResDivergence,\n",
    "    SlowStochOscCrossover,\n",
    ")"
   ]
  },
  {
   "cell_type": "markdown",
   "id": "e008b8a4-83fd-4e67-8e7f-013c4bbeb2fb",
   "metadata": {},
   "source": [
    "## Data pre-processing"
   ]
  },
  {
   "cell_type": "code",
   "execution_count": null,
   "id": "9ac48e1d-421f-4c28-a484-42a56191b12b",
   "metadata": {},
   "outputs": [],
   "source": [
    "dates = {\"start\": datetime(2024, 1, 1), \"end\": datetime(2025, 7, 31)}\n",
    "\n",
    "data_processor = DataProcessor()\n",
    "data = data_processor.load_data(\n",
    "    symbol=\"MSFT\",\n",
    "    start_date=dates[\"start\"],\n",
    "    end_date=dates[\"end\"],\n",
    "    impute_data=True,\n",
    ")"
   ]
  },
  {
   "cell_type": "markdown",
   "id": "b0c52814-3d06-4de0-8997-2c3e8f625de5",
   "metadata": {},
   "source": [
    "## Select strategies to test"
   ]
  },
  {
   "cell_type": "code",
   "execution_count": null,
   "id": "1a0d71c8-f876-414a-b055-f6e1ebf1633e",
   "metadata": {},
   "outputs": [],
   "source": [
    "strategies = [\n",
    "    BollingerBand(),\n",
    "    FastStochOscCrossover(),\n",
    "    RocMultiConditionCrossover(),\n",
    "    RsiSupResDivergence(),\n",
    "    SlowStochOscCrossover(),\n",
    "]"
   ]
  },
  {
   "cell_type": "markdown",
   "id": "bb1cbf44-27ff-4921-8d8f-9a7346305696",
   "metadata": {},
   "source": [
    "## Visualization"
   ]
  },
  {
   "cell_type": "code",
   "execution_count": null,
   "id": "f26b9568-34aa-4d33-90c2-b5b35de09583",
   "metadata": {},
   "outputs": [],
   "source": [
    "for strategy in strategies:\n",
    "    scores = strategy.generate_historical_scores(data=data, symbol=\"MSFT\")\n",
    "\n",
    "    fig, (ax1, ax2) = plt.subplots(\n",
    "        2, 1, figsize=(14, 8), sharex=True, gridspec_kw={\"height_ratios\": [2, 1]}\n",
    "    )\n",
    "\n",
    "    # Price plot\n",
    "    ax1.plot(data[\"datetime\"], data[\"Close\"], label=\"Close Price\", color=\"blue\")\n",
    "    ax1.set_title(\"Close Price\")\n",
    "    ax1.set_ylabel(\"Price\")\n",
    "    ax1.grid(True)\n",
    "    ax1.legend()\n",
    "\n",
    "    # Score plot\n",
    "    ax2.plot(scores, label=\"Normalized Score\", color=\"orange\")\n",
    "    ax2.axhline(0.0, color=\"black\", linestyle=\"--\", linewidth=0.8)\n",
    "    ax2.axhline(\n",
    "        0.3, color=\"green\", linestyle=\"--\", linewidth=0.8, label=\"Buy Threshold\"\n",
    "    )\n",
    "    ax2.axhline(\n",
    "        -0.3, color=\"red\", linestyle=\"--\", linewidth=0.8, label=\"Sell Threshold\"\n",
    "    )\n",
    "    ax2.set_title(f\"{type(strategy).__name__} Score\")\n",
    "    ax2.set_ylabel(\"Score\")\n",
    "    ax2.set_xlabel(\"Date\")\n",
    "    ax2.grid(True)\n",
    "    ax2.legend()\n",
    "\n",
    "    plt.tight_layout()\n",
    "    plt.show()"
   ]
  }
 ],
 "metadata": {
  "kernelspec": {
   "display_name": "turtle-quant-1",
   "language": "python",
   "name": "turtle-quant-1"
  },
  "language_info": {
   "codemirror_mode": {
    "name": "ipython",
    "version": 3
   },
   "file_extension": ".py",
   "mimetype": "text/x-python",
   "name": "python",
   "nbconvert_exporter": "python",
   "pygments_lexer": "ipython3",
   "version": "3.12.11"
  }
 },
 "nbformat": 4,
 "nbformat_minor": 5
}
