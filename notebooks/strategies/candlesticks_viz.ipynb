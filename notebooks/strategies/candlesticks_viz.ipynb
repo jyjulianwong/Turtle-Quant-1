{
 "cells": [
  {
   "cell_type": "code",
   "execution_count": null,
   "id": "71e6f7d9-59b7-45e6-af3a-aa304fda8c52",
   "metadata": {},
   "outputs": [],
   "source": [
    "from datetime import datetime\n",
    "\n",
    "import matplotlib.pyplot as plt\n",
    "\n",
    "from turtle_quant_1.data_processing.processor import DataProcessor\n",
    "from turtle_quant_1.strategies.candlesticks import (\n",
    "    EngulfingPattern,\n",
    "    MomentumPattern,\n",
    "    MultiplePattern,\n",
    ")"
   ]
  },
  {
   "cell_type": "markdown",
   "id": "d3b39baa-d17a-4cd3-bedf-3e6220df99ad",
   "metadata": {},
   "source": [
    "## Data pre-processing"
   ]
  },
  {
   "cell_type": "code",
   "execution_count": null,
   "id": "a16456e0-b780-4ec5-82d7-9c029e770fb6",
   "metadata": {},
   "outputs": [],
   "source": [
    "symbol = \"XOM\""
   ]
  },
  {
   "cell_type": "code",
   "execution_count": null,
   "id": "9ac48e1d-421f-4c28-a484-42a56191b12b",
   "metadata": {},
   "outputs": [],
   "source": [
    "dates = {\"start\": datetime(2024, 1, 1), \"end\": datetime(2025, 7, 31)}\n",
    "\n",
    "data_processor = DataProcessor()\n",
    "data = data_processor.load_data(\n",
    "    symbol=symbol,\n",
    "    start_date=dates[\"start\"],\n",
    "    end_date=dates[\"end\"],\n",
    "    impute_data=True,\n",
    ")"
   ]
  },
  {
   "cell_type": "markdown",
   "id": "a00433b9-c0fe-45c0-8285-c93ad726903c",
   "metadata": {},
   "source": [
    "## Select strategies to test"
   ]
  },
  {
   "cell_type": "code",
   "execution_count": null,
   "id": "f7f9835f-708e-4cd1-aaf8-250f128c0dee",
   "metadata": {},
   "outputs": [],
   "source": [
    "strategies = [\n",
    "    EngulfingPattern(),\n",
    "    MomentumPattern(),\n",
    "    MultiplePattern(),\n",
    "]"
   ]
  },
  {
   "cell_type": "markdown",
   "id": "b18b0862-f656-4d27-9f97-3052d5aeab41",
   "metadata": {},
   "source": [
    "## Visualization"
   ]
  },
  {
   "cell_type": "code",
   "execution_count": null,
   "id": "f26b9568-34aa-4d33-90c2-b5b35de09583",
   "metadata": {},
   "outputs": [],
   "source": [
    "import plotly.graph_objects as go\n",
    "from IPython.display import display\n",
    "from plotly.subplots import make_subplots\n",
    "\n",
    "for strategy in strategies:\n",
    "    scores = strategy.generate_historical_scores(data=data, symbol=symbol)\n",
    "\n",
    "    fig = make_subplots(\n",
    "        rows=2,\n",
    "        cols=1,\n",
    "        shared_xaxes=True,\n",
    "        vertical_spacing=0.1,\n",
    "        row_heights=[0.6, 0.4],\n",
    "        subplot_titles=(\"Close Price\", f\"{type(strategy).__name__} Score\"),\n",
    "    )\n",
    "\n",
    "    # Price plot\n",
    "    fig.add_trace(\n",
    "        go.Scatter(\n",
    "            x=data[\"datetime\"],\n",
    "            y=data[\"Close\"],\n",
    "            mode=\"lines\",\n",
    "            name=\"Close Price\",\n",
    "            line=dict(color=\"blue\"),\n",
    "        ),\n",
    "        row=1,\n",
    "        col=1,\n",
    "    )\n",
    "\n",
    "    # Score plot\n",
    "    fig.add_trace(\n",
    "        go.Scatter(\n",
    "            x=data[\"datetime\"],\n",
    "            y=scores,\n",
    "            mode=\"lines\",\n",
    "            name=\"Normalized Score\",\n",
    "            line=dict(color=\"orange\"),\n",
    "        ),\n",
    "        row=2,\n",
    "        col=1,\n",
    "    )\n",
    "\n",
    "    # Add horizontal threshold lines\n",
    "    thresholds = [\n",
    "        {\"y\": 0.0, \"color\": \"black\", \"dash\": \"dash\", \"name\": \"Zero Line\"},\n",
    "        {\"y\": 0.3, \"color\": \"green\", \"dash\": \"dash\", \"name\": \"Buy Threshold\"},\n",
    "        {\"y\": -0.3, \"color\": \"red\", \"dash\": \"dash\", \"name\": \"Sell Threshold\"},\n",
    "    ]\n",
    "    for threshold in thresholds:\n",
    "        fig.add_hline(\n",
    "            y=threshold[\"y\"],\n",
    "            line=dict(color=threshold[\"color\"], dash=threshold[\"dash\"], width=1),\n",
    "            row=2,\n",
    "            col=1,\n",
    "            annotation_text=threshold[\"name\"],\n",
    "            annotation_position=\"top left\",\n",
    "        )\n",
    "\n",
    "    # Layout\n",
    "    fig.update_layout(\n",
    "        height=600,\n",
    "        width=1000,\n",
    "        title_text=f\"{type(strategy).__name__} - {symbol} Analysis\",\n",
    "        legend=dict(orientation=\"h\", yanchor=\"bottom\", y=1.02, xanchor=\"right\", x=1),\n",
    "    )\n",
    "\n",
    "    fig.update_yaxes(title_text=\"Price\", row=1, col=1)\n",
    "    fig.update_yaxes(title_text=\"Score\", row=2, col=1)\n",
    "    fig.update_xaxes(title_text=\"Date\", row=2, col=1)\n",
    "\n",
    "    display(fig)"
   ]
  }
 ],
 "metadata": {
  "kernelspec": {
   "display_name": "turtle-quant-1",
   "language": "python",
   "name": "turtle-quant-1"
  },
  "language_info": {
   "codemirror_mode": {
    "name": "ipython",
    "version": 3
   },
   "file_extension": ".py",
   "mimetype": "text/x-python",
   "name": "python",
   "nbconvert_exporter": "python",
   "pygments_lexer": "ipython3",
   "version": "3.12.11"
  }
 },
 "nbformat": 4,
 "nbformat_minor": 5
}
