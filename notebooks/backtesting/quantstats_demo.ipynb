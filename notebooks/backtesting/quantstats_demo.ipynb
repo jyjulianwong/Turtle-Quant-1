{
 "cells": [
  {
   "cell_type": "markdown",
   "id": "4fd183bc-6175-4ed0-9b1d-2c70724292c7",
   "metadata": {},
   "source": [
    "# Quantstats"
   ]
  },
  {
   "cell_type": "code",
   "execution_count": null,
   "id": "497c8099-5313-47a8-a580-20b971244fc7",
   "metadata": {},
   "outputs": [],
   "source": [
    "import quantstats as qs\n",
    "\n",
    "%matplotlib inline"
   ]
  },
  {
   "cell_type": "markdown",
   "id": "851ca3aa-da9d-46a0-a913-55af313397af",
   "metadata": {},
   "source": [
    "## `stats`"
   ]
  },
  {
   "cell_type": "code",
   "execution_count": null,
   "id": "968e5395-81c8-4f89-b26d-8d33ee93a9d0",
   "metadata": {},
   "outputs": [],
   "source": [
    "# extend pandas functionality with metrics, etc.\n",
    "qs.extend_pandas()\n",
    "\n",
    "# fetch the daily returns for a stock\n",
    "stock = qs.utils.download_returns(\"META\")\n",
    "\n",
    "# show sharpe ratio\n",
    "qs.stats.sharpe(stock)\n",
    "\n",
    "# or using extend_pandas()\n",
    "stock.sharpe()"
   ]
  },
  {
   "cell_type": "markdown",
   "id": "bf56c5a5-040e-4629-be37-9693fefc30a4",
   "metadata": {},
   "source": [
    "## `plots`"
   ]
  },
  {
   "cell_type": "code",
   "execution_count": null,
   "id": "4529f6e0-59ed-4567-9437-6762b2f3b122",
   "metadata": {},
   "outputs": [],
   "source": [
    "type(stock)"
   ]
  },
  {
   "cell_type": "code",
   "execution_count": null,
   "id": "b80a6cfa-6bf9-4d29-8686-f91eaf3f3b93",
   "metadata": {},
   "outputs": [],
   "source": [
    "stock.info()"
   ]
  },
  {
   "cell_type": "code",
   "execution_count": null,
   "id": "733111b9-2cf2-4949-86fe-d66f9ee016ce",
   "metadata": {},
   "outputs": [],
   "source": [
    "stock.head()"
   ]
  },
  {
   "cell_type": "code",
   "execution_count": null,
   "id": "f5ac814b-d8c7-45f9-8d5a-2235a3bee1d5",
   "metadata": {},
   "outputs": [],
   "source": [
    "qs.plots.snapshot(stock, title=\"Facebook\", show=True)"
   ]
  },
  {
   "cell_type": "markdown",
   "id": "708d7367-9147-4780-a990-09e235307509",
   "metadata": {},
   "source": [
    "## `reports`"
   ]
  },
  {
   "cell_type": "code",
   "execution_count": null,
   "id": "785524a8-cef6-4c58-abc3-c23892b54b01",
   "metadata": {},
   "outputs": [],
   "source": [
    "qs.reports.full(returns=stock, benchmark=\"SPY\")"
   ]
  },
  {
   "cell_type": "code",
   "execution_count": null,
   "id": "8466cfd9-54ac-4609-91c5-bb9b27cb8e78",
   "metadata": {},
   "outputs": [],
   "source": [
    "qs.reports.metrics(\n",
    "    returns=stock,\n",
    "    benchmark=\"SPY\",\n",
    "    display=True,\n",
    ")"
   ]
  },
  {
   "cell_type": "code",
   "execution_count": null,
   "id": "323894d2-bfdf-4274-880f-367ea0554c39",
   "metadata": {},
   "outputs": [],
   "source": [
    "qs.reports.metrics(\n",
    "    returns=stock,\n",
    "    benchmark=\"SPY\",\n",
    "    display=False,\n",
    ")"
   ]
  },
  {
   "cell_type": "code",
   "execution_count": null,
   "id": "5725599c-a97d-4025-b2dc-3044d5de0929",
   "metadata": {},
   "outputs": [],
   "source": [
    "# qs.reports.html(returns=stock, benchmark=\"SPY\")"
   ]
  }
 ],
 "metadata": {
  "kernelspec": {
   "display_name": "turtle-quant-1",
   "language": "python",
   "name": "turtle-quant-1"
  },
  "language_info": {
   "codemirror_mode": {
    "name": "ipython",
    "version": 3
   },
   "file_extension": ".py",
   "mimetype": "text/x-python",
   "name": "python",
   "nbconvert_exporter": "python",
   "pygments_lexer": "ipython3",
   "version": "3.12.9"
  }
 },
 "nbformat": 4,
 "nbformat_minor": 5
}
