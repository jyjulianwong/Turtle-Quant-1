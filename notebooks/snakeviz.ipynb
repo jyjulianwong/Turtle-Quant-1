{
 "cells": [
  {
   "cell_type": "markdown",
   "id": "027c1956-f1f7-4fde-8649-1e8e981876e6",
   "metadata": {},
   "source": [
    "# Program Profiling\n",
    "A profile is a set of statistics that describes how often and for how long various parts of the program executed."
   ]
  },
  {
   "cell_type": "code",
   "execution_count": null,
   "id": "bd81c4a1-89dd-4247-8529-80f2eab647c9",
   "metadata": {},
   "outputs": [],
   "source": [
    "import snakeviz\n",
    "\n",
    "from turtle_quant_1.backtesting.main import create_test_cases\n",
    "from turtle_quant_1.backtesting.runner import BacktestingTestRunner\n",
    "\n",
    "%load_ext snakeviz"
   ]
  },
  {
   "cell_type": "markdown",
   "id": "95b6e5de-f17f-475f-8fff-2973ff4fa314",
   "metadata": {},
   "source": [
    "Before proceeding, set the `MAX_WORKERS` environment variable to 1!"
   ]
  },
  {
   "cell_type": "markdown",
   "id": "c7bd9993-0751-4812-83b6-19aa98638e28",
   "metadata": {},
   "source": [
    "## Using the SnakeViz iPython extension"
   ]
  },
  {
   "cell_type": "code",
   "execution_count": null,
   "id": "45c1d5e5-f992-4bf5-bc98-24ffd5bddc2c",
   "metadata": {},
   "outputs": [],
   "source": [
    "# # Create test cases\n",
    "# test_cases = create_test_cases()\n",
    "\n",
    "# # Create and run test runner\n",
    "# runner = BacktestingTestRunner(test_cases)"
   ]
  },
  {
   "cell_type": "code",
   "execution_count": null,
   "id": "12938ccf-65cf-44f0-abac-d781571b0a23",
   "metadata": {},
   "outputs": [],
   "source": [
    "# %snakeviz results = runner.run_tests()"
   ]
  },
  {
   "cell_type": "markdown",
   "id": "352eb65f-6418-4720-ba11-227a850327e8",
   "metadata": {},
   "source": [
    "## Using the SnakeViz command line tool"
   ]
  },
  {
   "cell_type": "markdown",
   "id": "105de2ba-7298-4491-83cf-7c60384423ee",
   "metadata": {},
   "source": [
    "### Generate a profile using cProfile"
   ]
  },
  {
   "cell_type": "code",
   "execution_count": null,
   "id": "ea216049-ef46-4964-9442-88c2397c33c9",
   "metadata": {},
   "outputs": [],
   "source": [
    "! python -m cProfile -o /Users/jyjulianwong/Desktop/Programming/Turtle-Quant-1/notebooks/backtesting_main.prof /Users/jyjulianwong/Desktop/Programming/Turtle-Quant-1/turtle_quant_1/backtesting/main.py"
   ]
  },
  {
   "cell_type": "markdown",
   "id": "2dfab555-b534-4f71-9a75-8469d8e5b2c0",
   "metadata": {},
   "source": [
    "### Filter stats to exclude function calls to external libraries"
   ]
  },
  {
   "cell_type": "code",
   "execution_count": null,
   "id": "8c453d82-6158-4860-ae1a-0b8942fb87a9",
   "metadata": {},
   "outputs": [],
   "source": [
    "import pstats\n",
    "import os\n",
    "\n",
    "# Path to your existing profile file\n",
    "src_prof = \"/Users/jyjulianwong/Desktop/Programming/Turtle-Quant-1/notebooks/backtesting_main.prof\"\n",
    "dst_prof = \"/Users/jyjulianwong/Desktop/Programming/Turtle-Quant-1/notebooks/backtesting_main_filtered.prof\"\n",
    "\n",
    "# Path to your source code folder\n",
    "project_path = os.path.abspath(\"src\")  # change to your folder\n",
    "\n",
    "stats = pstats.Stats(src_prof)\n",
    "stats.strip_dirs()\n",
    "\n",
    "\n",
    "# Build new filtered stats\n",
    "filtered_stats = pstats.Stats()\n",
    "filtered_stats.files = stats.files  # keep file info if needed\n",
    "\n",
    "for func, stat in stats.stats.items():\n",
    "    filename, lineno, funcname = func\n",
    "    if filename.startswith(project_path) and \"site-packages\" not in filename and \"venv\" not in filename:\n",
    "        filtered_stats.stats[func] = stat\n",
    "\n",
    "# Save filtered profile\n",
    "stats.dump_stats(dst_prof)"
   ]
  },
  {
   "cell_type": "markdown",
   "id": "218dfd54-22a4-47ac-b6a5-99fa93e830e0",
   "metadata": {},
   "source": [
    "### Run SnakeViz"
   ]
  },
  {
   "cell_type": "code",
   "execution_count": null,
   "id": "a8f6e765-f02d-492e-8b54-d92f518dd47f",
   "metadata": {},
   "outputs": [],
   "source": [
    "! snakeviz /Users/jyjulianwong/Desktop/Programming/Turtle-Quant-1/notebooks/backtesting_main_filtered.prof"
   ]
  },
  {
   "cell_type": "markdown",
   "id": "5f2ba2cd-6bbb-45f9-8fb0-5d5c03cca620",
   "metadata": {},
   "source": [
    "## Using Tuna"
   ]
  },
  {
   "cell_type": "code",
   "execution_count": null,
   "id": "0bac4fd7-79f6-4098-bcd9-11174d2d4706",
   "metadata": {},
   "outputs": [],
   "source": [
    "# ! tuna /Users/jyjulianwong/Desktop/Programming/Turtle-Quant-1/notebooks/backtesting_main.prof"
   ]
  }
 ],
 "metadata": {
  "kernelspec": {
   "display_name": "turtle-quant-1",
   "language": "python",
   "name": "turtle-quant-1"
  },
  "language_info": {
   "codemirror_mode": {
    "name": "ipython",
    "version": 3
   },
   "file_extension": ".py",
   "mimetype": "text/x-python",
   "name": "python",
   "nbconvert_exporter": "python",
   "pygments_lexer": "ipython3",
   "version": "3.12.11"
  }
 },
 "nbformat": 4,
 "nbformat_minor": 5
}
